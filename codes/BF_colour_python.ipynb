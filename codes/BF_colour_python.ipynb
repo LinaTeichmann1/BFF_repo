{
 "metadata": {
  "language_info": {
   "codemirror_mode": {
    "name": "ipython",
    "version": 3
   },
   "file_extension": ".py",
   "mimetype": "text/x-python",
   "name": "python",
   "nbconvert_exporter": "python",
   "pygments_lexer": "ipython3",
   "version": "3.7.4"
  },
  "orig_nbformat": 2,
  "kernelspec": {
   "name": "python3",
   "display_name": "Python 3",
   "language": "python"
  }
 },
 "nbformat": 4,
 "nbformat_minor": 2,
 "cells": [
  {
   "cell_type": "code",
   "execution_count": null,
   "metadata": {},
   "outputs": [],
   "source": [
    "# import packages\n",
    "import numpy as np\n",
    "from scipy.io import loadmat\n",
    "import pandas as pd\n",
    "\n",
    "from rpy2.robjects import r\n",
    "import rpy2.robjects as ro\n",
    "from rpy2.robjects.packages import importr\n",
    "from rpy2.robjects import pandas2ri\n",
    "from rpy2.robjects.conversion import localconverter\n",
    "import matplotlib.pyplot as plt\n",
    "bf_package=importr('BayesFactor')\n"
   ]
  },
  {
   "cell_type": "code",
   "execution_count": null,
   "metadata": {},
   "outputs": [],
   "source": [
    "# chance decoding\n",
    "chance=0.5\n",
    "## load data from matlab struct [such as cosmomvpa results file]\n",
    "x = loadmat('../data_colour/ds_stacked_realcolour.mat',squeeze_me=True,struct_as_record=False)\n",
    "data=x['ds_stacked_realcolour']\n",
    "df=pd.DataFrame(data.samples)\n",
    "\n",
    "## load data from csv file [this should be participants x timepoints accuracy matrix]\n",
    "# df = pd.read_csv('../data_colour/res.csv',header=None)\n",
    "\n",
    "# loop over timepoints, make decoding accuracy into effect size and convert to an r object\n",
    "n_timepoints = df.shape[1]\n",
    "df_norm = pd.DataFrame(np.empty_like(df))\n",
    "for t in range(n_timepoints):\n",
    "  df_norm[t]=[(i - chance) for i in df[t]]\n",
    " \n",
    "with localconverter(ro.default_converter + pandas2ri.converter):\n",
    "  r_data = ro.conversion.py2rpy(df_norm)"
   ]
  },
  {
   "cell_type": "code",
   "execution_count": null,
   "metadata": {
    "tags": []
   },
   "outputs": [],
   "source": [
    "# loop over timepoints\n",
    "bf=[]\n",
    "for t in range(n_timepoints):\n",
    "    results=bf_package.ttestBF(x=r_data[t],mu=0,rscale='medium',nullInterval=[0.5,float('inf')])\n",
    "    bf.append(np.asarray(r['as.vector'](results))[0])\n"
   ]
  },
  {
   "cell_type": "code",
   "execution_count": 21,
   "metadata": {},
   "outputs": [],
   "source": [
    "# plot as a quick peak\n",
    "%matplotlib qt\n",
    "x = np.arange(-100,805,5)\n",
    "y = bf\n",
    "plt.stem(x, y,bottom=1,linefmt=None, markerfmt=None, basefmt=None)\n",
    "plt.yscale('log')\n",
    "ax = plt.gca()\n",
    "ax.set_ylim(bottom=10**-10, top=10**10)\n"
   ]
  }
 ]
}