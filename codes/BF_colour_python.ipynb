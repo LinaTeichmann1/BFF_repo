{
 "cells": [
  {
   "cell_type": "code",
   "execution_count": 1,
   "metadata": {},
   "outputs": [
    {
     "data": {
      "text/plain": [
       "['/Users/teichmanna2/anaconda3/envs/mne/lib/python3.9/site-packages/rpy2']"
      ]
     },
     "execution_count": 1,
     "metadata": {},
     "output_type": "execute_result"
    }
   ],
   "source": [
    "# import packages\n",
    "import numpy as np\n",
    "from scipy.io import loadmat\n",
    "import pandas as pd\n",
    "\n",
    "from rpy2.robjects import r\n",
    "import rpy2.robjects as ro\n",
    "from rpy2.robjects.packages import importr\n",
    "from rpy2.robjects import pandas2ri\n",
    "from rpy2.robjects.conversion import localconverter\n",
    "import matplotlib.pyplot as plt\n",
    "import seaborn as sns\n",
    "\n",
    "bf_package=importr('BayesFactor')\n",
    "\n",
    "%matplotlib qt"
   ]
  },
  {
   "cell_type": "code",
   "execution_count": null,
   "metadata": {},
   "outputs": [],
   "source": [
    "# chance decoding\n",
    "chance=0.5\n",
    "## load data from matlab struct [such as cosmomvpa results file]\n",
    "x = loadmat('../data_colour/ds_stacked_realcolour.mat',squeeze_me=True,struct_as_record=False)\n",
    "data=x['ds_stacked_realcolour']\n",
    "df=pd.DataFrame(data.samples)\n",
    "\n",
    "## load data from csv file [this should be participants x timepoints accuracy matrix]\n",
    "# df = pd.read_csv('../data_colour/res.csv',header=None)\n",
    "\n",
    "# loop over timepoints, make decoding accuracy into effect size and convert to an r object\n",
    "n_timepoints = df.shape[1]\n",
    "df_norm = pd.DataFrame(np.empty_like(df))\n",
    "for t in range(n_timepoints):\n",
    "  df_norm[t]=[(i - chance) for i in df[t]]\n",
    " \n",
    "with localconverter(ro.default_converter + pandas2ri.converter):\n",
    "  r_data = ro.conversion.py2rpy(df_norm)"
   ]
  },
  {
   "cell_type": "code",
   "execution_count": null,
   "metadata": {
    "tags": []
   },
   "outputs": [],
   "source": [
    "# loop over timepoints\n",
    "bf=[]\n",
    "for t in range(n_timepoints):\n",
    "    results=bf_package.ttestBF(x=r_data[t],mu=0,rscale='medium',nullInterval=[0.5,float('inf')])\n",
    "    bf.append(np.asarray(r['as.vector'](results))[0])\n"
   ]
  },
  {
   "cell_type": "code",
   "execution_count": null,
   "metadata": {},
   "outputs": [],
   "source": [
    "# plot as a quick peak\n",
    "x = np.arange(-100,805,5)\n",
    "y = bf\n",
    "plt.stem(x, y,bottom=1,linefmt=None, markerfmt=None, basefmt=None)\n",
    "plt.yscale('log')\n",
    "ax = plt.gca()\n",
    "ax.set_ylim(bottom=10**-10, top=10**10)"
   ]
  },
  {
   "cell_type": "code",
   "execution_count": null,
   "metadata": {},
   "outputs": [],
   "source": [
    "# plot BFs with coloured stems (like the matlab version)\n",
    "plt.close('all')\n",
    "fig, ax = plt.subplots(figsize=(7,3))\n",
    "\n",
    "bf_cols = sns.color_palette(\"coolwarm\", 500)\n",
    "exponential_minmax = 10\n",
    "val_col_map = np.logspace(-exponential_minmax,exponential_minmax,num=500)\n",
    "\n",
    "x = np.arange(-100,805,5)\n",
    "y = bf\n",
    "markerline, stemlines, baseline = ax.stem(x, y,bottom=1,linefmt='k', markerfmt=None, basefmt=None)\n",
    "\n",
    "markerline.set_markerfacecolor('w')\n",
    "markerline.set_markeredgecolor('w')\n",
    "baseline.set_color('k')\n",
    "stemlines.set_linewidth(0.5)\n",
    "\n",
    "cols_idx = [np.argmin(np.abs(val_col_map-i)) for i in y]  \n",
    "[ax.plot(x[i],y[i],color=bf_cols[cols_idx[i]],marker='.',markersize=10,lw=0,markeredgecolor=None) for i in range(len(cols_idx))]\n",
    "ax.set_yscale('log')\n",
    "ax.set_ylim([10**-exponential_minmax,10**exponential_minmax])\n",
    "ax.set_yticks([ 1.e-10, 1, 1.e+10])\n",
    "ax.get_xaxis().get_major_formatter().labelOnlyBase = True\n",
    "\n",
    "ax.spines['right'].set_visible(False)\n",
    "ax.spines['top'].set_visible(False)\n",
    "\n",
    "ax.set_xlabel('time (s)',fontsize=14)\n",
    "ax.set_ylabel('Bayes Factor\\n(log)',fontsize=14)\n",
    "\n",
    "plt.tight_layout()"
   ]
  }
 ],
 "metadata": {
  "kernelspec": {
   "display_name": "Python 3.9.7 ('mne')",
   "language": "python",
   "name": "python3"
  },
  "language_info": {
   "codemirror_mode": {
    "name": "ipython",
    "version": 3
   },
   "file_extension": ".py",
   "mimetype": "text/x-python",
   "name": "python",
   "nbconvert_exporter": "python",
   "pygments_lexer": "ipython3",
   "version": "3.9.13"
  },
  "orig_nbformat": 2,
  "vscode": {
   "interpreter": {
    "hash": "cb5dd383a21964497134ba1dfc68eb241732f658e0540b11509a066c4bd667fc"
   }
  }
 },
 "nbformat": 4,
 "nbformat_minor": 2
}
